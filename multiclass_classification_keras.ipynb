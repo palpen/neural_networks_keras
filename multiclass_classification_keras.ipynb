{
 "cells": [
  {
   "cell_type": "markdown",
   "metadata": {},
   "source": [
    "# Single-label, multiclass classification using Reuters dataset"
   ]
  },
  {
   "cell_type": "code",
   "execution_count": 181,
   "metadata": {},
   "outputs": [],
   "source": [
    "import numpy as np\n",
    "import matplotlib.pyplot as plt\n",
    "\n",
    "from keras import models\n",
    "from keras import layers"
   ]
  },
  {
   "cell_type": "markdown",
   "metadata": {},
   "source": [
    "## Load and explore data"
   ]
  },
  {
   "cell_type": "code",
   "execution_count": 138,
   "metadata": {},
   "outputs": [],
   "source": [
    "from keras.datasets import reuters\n",
    "\n",
    "(train_data, train_labels), (test_data, test_labels) = reuters.load_data(num_words=10000)"
   ]
  },
  {
   "cell_type": "code",
   "execution_count": 140,
   "metadata": {},
   "outputs": [
    {
     "data": {
      "text/plain": [
       "True"
      ]
     },
     "execution_count": 140,
     "metadata": {},
     "output_type": "execute_result"
    }
   ],
   "source": [
    "type(train_labels) == type(np.array(train_labels))"
   ]
  },
  {
   "cell_type": "code",
   "execution_count": 122,
   "metadata": {},
   "outputs": [
    {
     "name": "stdout",
     "output_type": "stream",
     "text": [
      "(8982,)\n",
      "<class 'list'> 87\n",
      "(2246,)\n",
      "[ 3  4  3  4  4  4  4  3  3 16]\n"
     ]
    }
   ],
   "source": [
    "# take a look at the data\n",
    "print(train_data.shape)\n",
    "print(type(train_data[0]), len(train_data[0]))\n",
    "\n",
    "print(test_data.shape)\n",
    "\n",
    "print(train_labels[0:10])"
   ]
  },
  {
   "cell_type": "code",
   "execution_count": 78,
   "metadata": {},
   "outputs": [
    {
     "name": "stdout",
     "output_type": "stream",
     "text": [
      "START UNKNOWN UNKNOWN said as a result of its december acquisition of space co it expects earnings per share in 1987 of 1 15 to 1 30 dlrs per share up from 70 cts in 1986 the company said pretax net should rise to nine to 10 mln dlrs from six mln dlrs in 1986 and rental operation revenues to 19 to 22 mln dlrs from 12 5 mln dlrs it said cash flow per share this year should be 2 50 to three dlrs reuter 3\n",
      "\n",
      "START generale de banque sa lt UNKNOWN br and lt heller overseas corp of chicago have each taken 50 pct stakes in UNKNOWN company sa UNKNOWN factors generale de banque said in a statement it gave no financial details of the transaction sa UNKNOWN UNKNOWN turnover in 1986 was 17 5 billion belgian francs reuter 3\n",
      "\n",
      "START shr 3 28 dlrs vs 22 cts shr diluted 2 99 dlrs vs 22 cts net 46 0 mln vs 3 328 000 avg shrs 14 0 mln vs 15 2 mln year shr 5 41 dlrs vs 1 56 dlrs shr diluted 4 94 dlrs vs 1 50 dlrs net 78 2 mln vs 25 9 mln avg shrs 14 5 mln vs 15 1 mln note earnings per share reflect the two for one split effective january 6 1987 per share amounts are calculated after preferred stock dividends loss continuing operations for the qtr 1986 includes gains of sale of investments in UNKNOWN corp of 14 mln dlrs and associated companies of 4 189 000 less writedowns of investments in national UNKNOWN inc of 11 8 mln and UNKNOWN corp of 15 6 mln reuter 3\n",
      "\n",
      "START the farmers home administration the u s agriculture department's farm lending arm could lose about seven billion dlrs in outstanding principal on its severely UNKNOWN borrowers or about one fourth of its farm loan portfolio the general accounting office gao said in remarks prepared for delivery to the senate agriculture committee brian crowley senior associate director of gao also said that a preliminary analysis of proposed changes in UNKNOWN financial eligibility standards indicated as many as one half of UNKNOWN borrowers who received new loans from the agency in 1986 would be UNKNOWN under the proposed system the agency has proposed evaluating UNKNOWN credit using a variety of financial ratios instead of relying solely on UNKNOWN ability senate agriculture committee chairman patrick leahy d vt UNKNOWN the proposed eligibility changes telling UNKNOWN administrator UNKNOWN clark at a hearing that they would mark a dramatic shift in the agency's purpose away from being farmers' lender of last resort toward becoming a big city bank but clark defended the new regulations saying the agency had a responsibility to UNKNOWN its 70 billion dlr loan portfolio in a UNKNOWN yet UNKNOWN manner crowley of gao UNKNOWN UNKNOWN arm said the proposed credit UNKNOWN system attempted to ensure that UNKNOWN would make loans only to borrowers who had a reasonable change of repaying their debt reuter 3\n",
      "\n"
     ]
    }
   ],
   "source": [
    "# encode data and get back original text using \n",
    "word_index = reuters.get_word_index()\n",
    "word_index = {k:(v + 3) for k,v in word_index.items()}\n",
    "\n",
    "word_index['PADDING'] = 0\n",
    "word_index['START'] = 1\n",
    "word_index['UNKNOWN'] = 2\n",
    "\n",
    "reverse_word_index = dict([(value, key) for (key, value) in word_index.items()])\n",
    "\n",
    "def reverse_word_index_func(index):\n",
    "    print(' '.join([reverse_word_index.get(i, '?') for i in train_data[index]]))\n",
    "\n",
    "for i in range(4):\n",
    "    reverse_word_index_func(i)\n",
    "    print(\"\")"
   ]
  },
  {
   "cell_type": "markdown",
   "metadata": {},
   "source": [
    "## Prepare data by vectorizing the word integers"
   ]
  },
  {
   "cell_type": "code",
   "execution_count": 79,
   "metadata": {},
   "outputs": [],
   "source": [
    "def vectorize_words(sequences, dimension=10000):\n",
    "    \n",
    "    results = np.zeros((len(sequences), dimension))\n",
    "    \n",
    "    for i, sequence in enumerate(sequences):\n",
    "        \n",
    "        # sequence is a list which we use to \n",
    "        # access a subset of the array results\n",
    "        # at row i\n",
    "        results[i, sequence] = 1.\n",
    "\n",
    "    return results\n",
    "\n",
    "x_train = vectorize_words(train_data)\n",
    "x_test = vectorize_words(test_data)"
   ]
  },
  {
   "cell_type": "code",
   "execution_count": 80,
   "metadata": {},
   "outputs": [],
   "source": [
    "# one hot encode (vectorize) training and test labels\n",
    "one_hot_train_labels = vectorize_words(train_labels, dimension=46)\n",
    "one_hot_test_labels = vectorize_words(test_labels, dimension=46)"
   ]
  },
  {
   "cell_type": "code",
   "execution_count": 141,
   "metadata": {},
   "outputs": [
    {
     "data": {
      "text/plain": [
       "(2246, 46)"
      ]
     },
     "execution_count": 141,
     "metadata": {},
     "output_type": "execute_result"
    }
   ],
   "source": [
    "one_hot_test_labels.shape"
   ]
  },
  {
   "cell_type": "markdown",
   "metadata": {},
   "source": [
    "## Validation set"
   ]
  },
  {
   "cell_type": "code",
   "execution_count": 81,
   "metadata": {},
   "outputs": [],
   "source": [
    "x_val = x_train[:1000]\n",
    "partial_x_train = x_train[1000:]\n",
    "\n",
    "y_val = one_hot_train_labels[:1000]\n",
    "partial_y_train = one_hot_train_labels[1000:]"
   ]
  },
  {
   "cell_type": "markdown",
   "metadata": {},
   "source": [
    "## Build and train neural network"
   ]
  },
  {
   "cell_type": "code",
   "execution_count": 82,
   "metadata": {},
   "outputs": [],
   "source": [
    "model = models.Sequential()\n",
    "model.add(layers.Dense(64, activation='relu', input_shape=(10000,)))\n",
    "model.add(layers.Dense(64, activation='relu'))\n",
    "model.add(layers.Dense(46, activation='softmax'))\n",
    "\n",
    "model.compile(optimizer='rmsprop',\n",
    "              loss='categorical_crossentropy',\n",
    "              metrics=['accuracy'])"
   ]
  },
  {
   "cell_type": "code",
   "execution_count": 85,
   "metadata": {},
   "outputs": [
    {
     "name": "stdout",
     "output_type": "stream",
     "text": [
      "Train on 7982 samples, validate on 1000 samples\n",
      "Epoch 1/20\n",
      "7982/7982 [==============================] - 1s 178us/step - loss: 2.5322 - acc: 0.4955 - val_loss: 1.7208 - val_acc: 0.6120\n",
      "Epoch 2/20\n",
      "7982/7982 [==============================] - 1s 108us/step - loss: 1.4452 - acc: 0.6879 - val_loss: 1.3459 - val_acc: 0.7060\n",
      "Epoch 3/20\n",
      "7982/7982 [==============================] - 1s 116us/step - loss: 1.0953 - acc: 0.7651 - val_loss: 1.1708 - val_acc: 0.7430\n",
      "Epoch 4/20\n",
      "7982/7982 [==============================] - 1s 113us/step - loss: 0.8697 - acc: 0.8165 - val_loss: 1.0793 - val_acc: 0.7590\n",
      "Epoch 5/20\n",
      "7982/7982 [==============================] - 1s 109us/step - loss: 0.7034 - acc: 0.8472 - val_loss: 0.9844 - val_acc: 0.7810\n",
      "Epoch 6/20\n",
      "7982/7982 [==============================] - 1s 109us/step - loss: 0.5667 - acc: 0.8802 - val_loss: 0.9411 - val_acc: 0.8040\n",
      "Epoch 7/20\n",
      "7982/7982 [==============================] - 1s 105us/step - loss: 0.4581 - acc: 0.9048 - val_loss: 0.9083 - val_acc: 0.8020\n",
      "Epoch 8/20\n",
      "7982/7982 [==============================] - 1s 104us/step - loss: 0.3695 - acc: 0.9231 - val_loss: 0.9363 - val_acc: 0.7890\n",
      "Epoch 9/20\n",
      "7982/7982 [==============================] - 1s 106us/step - loss: 0.3032 - acc: 0.9315 - val_loss: 0.8917 - val_acc: 0.8090\n",
      "Epoch 10/20\n",
      "7982/7982 [==============================] - 1s 109us/step - loss: 0.2537 - acc: 0.9414 - val_loss: 0.9071 - val_acc: 0.8110\n",
      "Epoch 11/20\n",
      "7982/7982 [==============================] - 1s 105us/step - loss: 0.2187 - acc: 0.9471 - val_loss: 0.9177 - val_acc: 0.8130\n",
      "Epoch 12/20\n",
      "7982/7982 [==============================] - 1s 105us/step - loss: 0.1873 - acc: 0.9508 - val_loss: 0.9027 - val_acc: 0.8130\n",
      "Epoch 13/20\n",
      "7982/7982 [==============================] - 1s 106us/step - loss: 0.1703 - acc: 0.9521 - val_loss: 0.9323 - val_acc: 0.8110\n",
      "Epoch 14/20\n",
      "7982/7982 [==============================] - 1s 116us/step - loss: 0.1536 - acc: 0.9554 - val_loss: 0.9689 - val_acc: 0.8050\n",
      "Epoch 15/20\n",
      "7982/7982 [==============================] - 1s 108us/step - loss: 0.1390 - acc: 0.9560 - val_loss: 0.9686 - val_acc: 0.8150\n",
      "Epoch 16/20\n",
      "7982/7982 [==============================] - 1s 105us/step - loss: 0.1313 - acc: 0.9560 - val_loss: 1.0220 - val_acc: 0.8060\n",
      "Epoch 17/20\n",
      "7982/7982 [==============================] - 1s 108us/step - loss: 0.1217 - acc: 0.9579 - val_loss: 1.0254 - val_acc: 0.7970\n",
      "Epoch 18/20\n",
      "7982/7982 [==============================] - 1s 124us/step - loss: 0.1198 - acc: 0.9582 - val_loss: 1.0430 - val_acc: 0.8060\n",
      "Epoch 19/20\n",
      "7982/7982 [==============================] - 1s 127us/step - loss: 0.1138 - acc: 0.9597 - val_loss: 1.0955 - val_acc: 0.7970\n",
      "Epoch 20/20\n",
      "7982/7982 [==============================] - 1s 112us/step - loss: 0.1111 - acc: 0.9593 - val_loss: 1.0674 - val_acc: 0.8020\n"
     ]
    }
   ],
   "source": [
    "history = model.fit(partial_x_train,\n",
    "                    partial_y_train,\n",
    "                    epochs=20,\n",
    "                    batch_size=512,\n",
    "                    validation_data=(x_val, y_val))"
   ]
  },
  {
   "cell_type": "code",
   "execution_count": null,
   "metadata": {},
   "outputs": [],
   "source": [
    "history_dict = history.history\n",
    "history_dict"
   ]
  },
  {
   "cell_type": "code",
   "execution_count": 92,
   "metadata": {},
   "outputs": [],
   "source": [
    "# plot trainng and validation loss\n",
    "\n",
    "def loss_curve(history_dict):\n",
    "    loss_values = history_dict['loss']\n",
    "    val_loss_values = history_dict['val_loss']\n",
    "\n",
    "    epochs = range(1, len(history_dict['acc']) + 1)\n",
    "\n",
    "    plt.plot(epochs, loss_values, 'bo', label='Training Loss')\n",
    "    plt.plot(epochs, val_loss_values, 'b', label='Validation Loss')\n",
    "    plt.title('Training and validation loss')\n",
    "    plt.xlabel('Epochs')\n",
    "    plt.ylabel('Loss')\n",
    "    plt.legend()\n",
    "    plt.show()\n",
    "\n",
    "def accuracy_curve(history_dict):\n",
    "    acc_values = history_dict['acc']\n",
    "    val_acc_values = history_dict['val_acc']\n",
    "\n",
    "    epochs = range(1, len(history_dict['acc']) + 1)\n",
    "\n",
    "    plt.plot(epochs, acc_values, 'bo', label='Training Accuracy')\n",
    "    plt.plot(epochs, val_acc_values, 'b', label='Validation Accuracy')\n",
    "    plt.title('Training and validation accuracy')\n",
    "    plt.xlabel('Epochs')\n",
    "    plt.ylabel('Accuracy')\n",
    "    plt.legend()\n",
    "    plt.show()"
   ]
  },
  {
   "cell_type": "code",
   "execution_count": 94,
   "metadata": {},
   "outputs": [
    {
     "data": {
      "image/png": "[encoded data removed]",
      "text/plain": [
       "<matplotlib.figure.Figure at 0x181a72f8d0>"
      ]
     },
     "metadata": {},
     "output_type": "display_data"
    },
    {
     "data": {
      "image/png": "[encoded data removed]",
      "text/plain": [
       "<matplotlib.figure.Figure at 0x181a72fd30>"
      ]
     },
     "metadata": {},
     "output_type": "display_data"
    }
   ],
   "source": [
    "loss_curve(history_dict)\n",
    "accuracy_curve(history_dict)"
   ]
  },
  {
   "cell_type": "markdown",
   "metadata": {},
   "source": [
    "Overfitting appears to occur at around the 9th epoch. Build another neural network from scratch and train it for only 9 epochs.\n",
    "\n",
    "Note that we must build a new neural network from scratch because calling the fit method again on the model above will continue the training from where left off (e.g. calling fit again for 9 epochs will result a trained neural network trained for a total of 29 epochs)."
   ]
  },
  {
   "cell_type": "code",
   "execution_count": 116,
   "metadata": {
    "scrolled": true
   },
   "outputs": [
    {
     "name": "stdout",
     "output_type": "stream",
     "text": [
      "Train on 7982 samples, validate on 1000 samples\n",
      "Epoch 1/9\n",
      "7982/7982 [==============================] - 1s 155us/step - loss: 2.4505 - acc: 0.5236 - val_loss: 1.6310 - val_acc: 0.6360\n",
      "Epoch 2/9\n",
      "7982/7982 [==============================] - 1s 106us/step - loss: 1.3597 - acc: 0.7095 - val_loss: 1.2775 - val_acc: 0.7200\n",
      "Epoch 3/9\n",
      "7982/7982 [==============================] - 1s 106us/step - loss: 1.0269 - acc: 0.7791 - val_loss: 1.1122 - val_acc: 0.7540\n",
      "Epoch 4/9\n",
      "7982/7982 [==============================] - 1s 107us/step - loss: 0.8179 - acc: 0.8265 - val_loss: 1.0274 - val_acc: 0.7790\n",
      "Epoch 5/9\n",
      "7982/7982 [==============================] - 1s 105us/step - loss: 0.6514 - acc: 0.8637 - val_loss: 0.9694 - val_acc: 0.7790\n",
      "Epoch 6/9\n",
      "7982/7982 [==============================] - 1s 106us/step - loss: 0.5209 - acc: 0.8909 - val_loss: 0.9315 - val_acc: 0.8030\n",
      "Epoch 7/9\n",
      "7982/7982 [==============================] - 1s 109us/step - loss: 0.4183 - acc: 0.9123 - val_loss: 0.9137 - val_acc: 0.8060\n",
      "Epoch 8/9\n",
      "7982/7982 [==============================] - 1s 105us/step - loss: 0.3378 - acc: 0.9287 - val_loss: 0.9026 - val_acc: 0.8050\n",
      "Epoch 9/9\n",
      "7982/7982 [==============================] - 1s 108us/step - loss: 0.2805 - acc: 0.9379 - val_loss: 0.9262 - val_acc: 0.8060\n"
     ]
    }
   ],
   "source": [
    "model = models.Sequential()\n",
    "model.add(layers.Dense(64, activation='relu', input_shape=(10000,)))\n",
    "model.add(layers.Dense(64, activation='relu'))\n",
    "model.add(layers.Dense(46, activation='softmax'))\n",
    "\n",
    "model.compile(optimizer='rmsprop',\n",
    "              loss='categorical_crossentropy',\n",
    "              metrics=['accuracy'])\n",
    "\n",
    "history = model.fit(partial_x_train,\n",
    "                    partial_y_train,\n",
    "                    epochs=9,\n",
    "                    batch_size=512,\n",
    "                    validation_data=(x_val, y_val))"
   ]
  },
  {
   "cell_type": "code",
   "execution_count": 117,
   "metadata": {},
   "outputs": [
    {
     "name": "stdout",
     "output_type": "stream",
     "text": [
      "2246/2246 [==============================] - 0s 102us/step\n"
     ]
    },
    {
     "data": {
      "text/plain": [
       "[1.0138686293485646, 0.7827248441939468]"
      ]
     },
     "execution_count": 117,
     "metadata": {},
     "output_type": "execute_result"
    }
   ],
   "source": [
    "results = model.evaluate(x_test, one_hot_test_labels)\n",
    "results"
   ]
  },
  {
   "cell_type": "markdown",
   "metadata": {},
   "source": [
    "## Make predictions"
   ]
  },
  {
   "cell_type": "code",
   "execution_count": 130,
   "metadata": {},
   "outputs": [
    {
     "name": "stdout",
     "output_type": "stream",
     "text": [
      "Topic predicted: 4 | Probability of prediciton: 0.48005539178848267\n"
     ]
    }
   ],
   "source": [
    "predictions = model.predict(x_test)\n",
    "print(\"Topic predicted: {} | Probability of prediciton: {}\".format(np.argmax(predictions[0]), max(predictions[0])))"
   ]
  },
  {
   "cell_type": "markdown",
   "metadata": {},
   "source": [
    "## Information bottlenecks"
   ]
  },
  {
   "cell_type": "code",
   "execution_count": 182,
   "metadata": {},
   "outputs": [],
   "source": [
    "def nn_architecture(num_layers, num_act_units):\n",
    "    \"\"\"\n",
    "    Custom neural network architecture for the reuters dataset\n",
    "    \n",
    "    num_layers: int\n",
    "    num_act_units: list\n",
    "    \"\"\"\n",
    "    \n",
    "    assert num_layers == len(num_act_units), \"num_layers must equal length of num_act_units list\"\n",
    "    \n",
    "    custom_model = models.Sequential()\n",
    "\n",
    "    # first hidden layer (input are the one hot encoded top 10,000 words)\n",
    "    custom_model.add(layers.Dense(num_act_units[0], activation='relu', input_shape=(10000,)))\n",
    "    \n",
    "    # remaining num_layers - 1 hidden layers\n",
    "    for l in range(num_layers - 1):\n",
    "        custom_model.add(layers.Dense(num_act_units[l + 1], activation='relu'))\n",
    "    \n",
    "    # final layers (46 possible classes)\n",
    "    custom_model.add(layers.Dense(46, activation='softmax'))\n",
    "\n",
    "    custom_model.compile(optimizer='rmsprop',\n",
    "                  loss='categorical_crossentropy',\n",
    "                  metrics=['accuracy'])\n",
    "    \n",
    "    print(custom_model.summary())\n",
    "    \n",
    "    return custom_model\n",
    "\n",
    "def nn_fit(x_train, y_train, x_val, y_val, model, num_epochs, batch_size):\n",
    "    \"\"\"\n",
    "    Fit model using training data and validate\n",
    "    Returns the history of the training session\n",
    "    \"\"\"\n",
    "    \n",
    "    history = model.fit(x_train,\n",
    "                        y_train,\n",
    "                        epochs=num_epochs,\n",
    "                        batch_size=batch_size,\n",
    "                        validation_data=(x_val, y_val),\n",
    "                        verbose=1)\n",
    "    \n",
    "    return history"
   ]
  },
  {
   "cell_type": "code",
   "execution_count": null,
   "metadata": {},
   "outputs": [],
   "source": [
    "model1 = nn_architecture(2, [64, 64])\n",
    "model2 = nn_architecture(3, [64, 64, 64])\n",
    "model3 = nn_architecture(2, [64, 32])\n",
    "model4 = nn_architecture(2, [64, 2])"
   ]
  },
  {
   "cell_type": "code",
   "execution_count": 184,
   "metadata": {},
   "outputs": [
    {
     "name": "stdout",
     "output_type": "stream",
     "text": [
      "_________________________________________________________________\n",
      "Layer (type)                 Output Shape              Param #   \n",
      "=================================================================\n",
      "dense_133 (Dense)            (None, 64)                640064    \n",
      "_________________________________________________________________\n",
      "dense_134 (Dense)            (None, 64)                4160      \n",
      "_________________________________________________________________\n",
      "dense_135 (Dense)            (None, 46)                2990      \n",
      "=================================================================\n",
      "Total params: 647,214\n",
      "Trainable params: 647,214\n",
      "Non-trainable params: 0\n",
      "_________________________________________________________________\n",
      "None\n",
      "_________________________________________________________________\n",
      "Layer (type)                 Output Shape              Param #   \n",
      "=================================================================\n",
      "dense_136 (Dense)            (None, 64)                640064    \n",
      "_________________________________________________________________\n",
      "dense_137 (Dense)            (None, 64)                4160      \n",
      "_________________________________________________________________\n",
      "dense_138 (Dense)            (None, 64)                4160      \n",
      "_________________________________________________________________\n",
      "dense_139 (Dense)            (None, 46)                2990      \n",
      "=================================================================\n",
      "Total params: 651,374\n",
      "Trainable params: 651,374\n",
      "Non-trainable params: 0\n",
      "_________________________________________________________________\n",
      "None\n",
      "_________________________________________________________________\n",
      "Layer (type)                 Output Shape              Param #   \n",
      "=================================================================\n",
      "dense_140 (Dense)            (None, 64)                640064    \n",
      "_________________________________________________________________\n",
      "dense_141 (Dense)            (None, 32)                2080      \n",
      "_________________________________________________________________\n",
      "dense_142 (Dense)            (None, 46)                1518      \n",
      "=================================================================\n",
      "Total params: 643,662\n",
      "Trainable params: 643,662\n",
      "Non-trainable params: 0\n",
      "_________________________________________________________________\n",
      "None\n",
      "_________________________________________________________________\n",
      "Layer (type)                 Output Shape              Param #   \n",
      "=================================================================\n",
      "dense_143 (Dense)            (None, 64)                640064    \n",
      "_________________________________________________________________\n",
      "dense_144 (Dense)            (None, 2)                 130       \n",
      "_________________________________________________________________\n",
      "dense_145 (Dense)            (None, 46)                138       \n",
      "=================================================================\n",
      "Total params: 640,332\n",
      "Trainable params: 640,332\n",
      "Non-trainable params: 0\n",
      "_________________________________________________________________\n",
      "None\n",
      "<keras.models.Sequential object at 0x1844c16a90>\n",
      "Train on 7982 samples, validate on 1000 samples\n",
      "Epoch 1/9\n",
      "7982/7982 [==============================] - 2s 269us/step - loss: 2.5836 - acc: 0.5292 - val_loss: 1.6910 - val_acc: 0.6310\n",
      "Epoch 2/9\n",
      "7982/7982 [==============================] - 1s 110us/step - loss: 1.3845 - acc: 0.7046 - val_loss: 1.2713 - val_acc: 0.7130\n",
      "Epoch 3/9\n",
      "7982/7982 [==============================] - 1s 107us/step - loss: 1.0198 - acc: 0.7880 - val_loss: 1.1276 - val_acc: 0.7560\n",
      "Epoch 4/9\n",
      "7982/7982 [==============================] - 1s 108us/step - loss: 0.7966 - acc: 0.8335 - val_loss: 1.0152 - val_acc: 0.7790\n",
      "Epoch 5/9\n",
      "7982/7982 [==============================] - 1s 107us/step - loss: 0.6299 - acc: 0.8692 - val_loss: 0.9443 - val_acc: 0.8150\n",
      "Epoch 6/9\n",
      "7982/7982 [==============================] - 1s 109us/step - loss: 0.5003 - acc: 0.8961 - val_loss: 0.9197 - val_acc: 0.8120\n",
      "Epoch 7/9\n",
      "7982/7982 [==============================] - 1s 108us/step - loss: 0.4033 - acc: 0.9156 - val_loss: 0.9034 - val_acc: 0.8090\n",
      "Epoch 8/9\n",
      "7982/7982 [==============================] - 1s 108us/step - loss: 0.3255 - acc: 0.9297 - val_loss: 0.8730 - val_acc: 0.8160\n",
      "Epoch 9/9\n",
      "7982/7982 [==============================] - 1s 108us/step - loss: 0.2696 - acc: 0.9407 - val_loss: 0.9124 - val_acc: 0.8130\n",
      "<keras.models.Sequential object at 0x1844c31630>\n",
      "Train on 7982 samples, validate on 1000 samples\n",
      "Epoch 1/9\n",
      "7982/7982 [==============================] - 2s 198us/step - loss: 2.6479 - acc: 0.4600 - val_loss: 1.7631 - val_acc: 0.5850\n",
      "Epoch 2/9\n",
      "7982/7982 [==============================] - 1s 111us/step - loss: 1.4544 - acc: 0.6902 - val_loss: 1.3443 - val_acc: 0.6970\n",
      "Epoch 3/9\n",
      "7982/7982 [==============================] - 1s 111us/step - loss: 1.0989 - acc: 0.7602 - val_loss: 1.2023 - val_acc: 0.7310\n",
      "Epoch 4/9\n",
      "7982/7982 [==============================] - 1s 111us/step - loss: 0.8806 - acc: 0.8093 - val_loss: 1.1428 - val_acc: 0.7710\n",
      "Epoch 5/9\n",
      "7982/7982 [==============================] - 1s 106us/step - loss: 0.7114 - acc: 0.8431 - val_loss: 1.0245 - val_acc: 0.7830\n",
      "Epoch 6/9\n",
      "7982/7982 [==============================] - 1s 109us/step - loss: 0.5802 - acc: 0.8695 - val_loss: 1.0016 - val_acc: 0.7920\n",
      "Epoch 7/9\n",
      "7982/7982 [==============================] - 1s 109us/step - loss: 0.4664 - acc: 0.8960 - val_loss: 0.9802 - val_acc: 0.8050\n",
      "Epoch 8/9\n",
      "7982/7982 [==============================] - 1s 109us/step - loss: 0.3862 - acc: 0.9154 - val_loss: 1.0156 - val_acc: 0.7910\n",
      "Epoch 9/9\n",
      "7982/7982 [==============================] - 1s 109us/step - loss: 0.3156 - acc: 0.9302 - val_loss: 1.0500 - val_acc: 0.7770\n",
      "<keras.models.Sequential object at 0x1844be7048>\n",
      "Train on 7982 samples, validate on 1000 samples\n",
      "Epoch 1/9\n",
      "7982/7982 [==============================] - 2s 195us/step - loss: 3.0140 - acc: 0.5015 - val_loss: 2.1457 - val_acc: 0.6410\n",
      "Epoch 2/9\n",
      "7982/7982 [==============================] - 1s 103us/step - loss: 1.7007 - acc: 0.6973 - val_loss: 1.4694 - val_acc: 0.6910\n",
      "Epoch 3/9\n",
      "7982/7982 [==============================] - 1s 102us/step - loss: 1.1972 - acc: 0.7596 - val_loss: 1.2305 - val_acc: 0.7420\n",
      "Epoch 4/9\n",
      "7982/7982 [==============================] - 1s 105us/step - loss: 0.9349 - acc: 0.8059 - val_loss: 1.0964 - val_acc: 0.7570\n",
      "Epoch 5/9\n",
      "7982/7982 [==============================] - 1s 104us/step - loss: 0.7544 - acc: 0.8420 - val_loss: 1.0112 - val_acc: 0.7880\n",
      "Epoch 6/9\n",
      "7982/7982 [==============================] - 1s 104us/step - loss: 0.6158 - acc: 0.8706 - val_loss: 0.9741 - val_acc: 0.7930\n",
      "Epoch 7/9\n",
      "7982/7982 [==============================] - 1s 104us/step - loss: 0.5076 - acc: 0.8950 - val_loss: 0.9294 - val_acc: 0.8090\n",
      "Epoch 8/9\n",
      "7982/7982 [==============================] - 1s 102us/step - loss: 0.4206 - acc: 0.9121 - val_loss: 0.9176 - val_acc: 0.8030\n",
      "Epoch 9/9\n",
      "7982/7982 [==============================] - 1s 104us/step - loss: 0.3541 - acc: 0.9272 - val_loss: 0.9073 - val_acc: 0.8160\n",
      "<keras.models.Sequential object at 0x1844b4ca90>\n",
      "Train on 7982 samples, validate on 1000 samples\n",
      "Epoch 1/9\n",
      "7982/7982 [==============================] - 2s 194us/step - loss: 3.6030 - acc: 0.0729 - val_loss: 3.4055 - val_acc: 0.0800\n",
      "Epoch 2/9\n",
      "7982/7982 [==============================] - 1s 103us/step - loss: 3.2622 - acc: 0.2915 - val_loss: 3.1342 - val_acc: 0.3780\n",
      "Epoch 3/9\n",
      "7982/7982 [==============================] - 1s 102us/step - loss: 2.9838 - acc: 0.3900 - val_loss: 2.8980 - val_acc: 0.3760\n",
      "Epoch 4/9\n",
      "7982/7982 [==============================] - 1s 103us/step - loss: 2.7708 - acc: 0.3930 - val_loss: 2.7471 - val_acc: 0.3730\n",
      "Epoch 5/9\n",
      "7982/7982 [==============================] - 1s 103us/step - loss: 2.6309 - acc: 0.3929 - val_loss: 2.6380 - val_acc: 0.3770\n",
      "Epoch 6/9\n",
      "7982/7982 [==============================] - 1s 103us/step - loss: 2.5442 - acc: 0.4022 - val_loss: 2.5887 - val_acc: 0.3760\n",
      "Epoch 7/9\n",
      "7982/7982 [==============================] - 1s 101us/step - loss: 2.4868 - acc: 0.4484 - val_loss: 2.5691 - val_acc: 0.4850\n",
      "Epoch 8/9\n",
      "7982/7982 [==============================] - 1s 103us/step - loss: 2.4470 - acc: 0.5016 - val_loss: 2.5230 - val_acc: 0.5000\n"
     ]
    },
    {
     "name": "stdout",
     "output_type": "stream",
     "text": [
      "Epoch 9/9\n",
      "7982/7982 [==============================] - 1s 106us/step - loss: 2.4113 - acc: 0.5215 - val_loss: 2.4896 - val_acc: 0.5020\n"
     ]
    }
   ],
   "source": [
    "my_models = [model1, model2, model3, model4]\n",
    "\n",
    "for m in my_models:\n",
    "\n",
    "    nn_fit(partial_x_train, \n",
    "       partial_y_train, \n",
    "       x_val, \n",
    "       y_val, \n",
    "       model=m, \n",
    "       num_epochs=9, \n",
    "       batch_size=512)"
   ]
  },
  {
   "cell_type": "code",
   "execution_count": null,
   "metadata": {},
   "outputs": [],
   "source": []
  },
  {
   "cell_type": "code",
   "execution_count": null,
   "metadata": {},
   "outputs": [],
   "source": []
  },
  {
   "cell_type": "markdown",
   "metadata": {},
   "source": [
    "# Notes"
   ]
  },
  {
   "cell_type": "code",
   "execution_count": 83,
   "metadata": {},
   "outputs": [
    {
     "name": "stdout",
     "output_type": "stream",
     "text": [
      "[5]\n",
      "[5 5]\n",
      "[6 1 0]\n"
     ]
    }
   ],
   "source": [
    "# you can access a subset of a numpy array using a list of indices\n",
    "\n",
    "a = np.array([[3,5,5],[6,1,0]])\n",
    "print(a[0,[1]])\n",
    "print(a[0,[1,2]])\n",
    "print(a[1, [0,1,2]])"
   ]
  },
  {
   "cell_type": "code",
   "execution_count": null,
   "metadata": {},
   "outputs": [],
   "source": []
  }
 ],
 "metadata": {
  "kernelspec": {
   "display_name": "Python 3",
   "language": "python",
   "name": "python3"
  },
  "language_info": {
   "codemirror_mode": {
    "name": "ipython",
    "version": 3
   },
   "file_extension": ".py",
   "mimetype": "text/x-python",
   "name": "python",
   "nbconvert_exporter": "python",
   "pygments_lexer": "ipython3",
   "version": "3.5.4"
  }
 },
 "nbformat": 4,
 "nbformat_minor": 2
}
