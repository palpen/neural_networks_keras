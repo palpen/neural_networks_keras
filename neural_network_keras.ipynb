{
 "cells": [
  {
   "cell_type": "markdown",
   "metadata": {},
   "source": [
    "# Notes from Deep Learning with Python using Keras by Francois Chollet\n",
    "My notes implementing codes from the book to practice implementing deep learning algorithms in Keras"
   ]
  },
  {
   "cell_type": "code",
   "execution_count": 167,
   "metadata": {},
   "outputs": [
    {
     "name": "stdout",
     "output_type": "stream",
     "text": [
      "3.5.4 |Anaconda, Inc.| (default, Nov  8 2017, 18:11:28) \n",
      "[GCC 4.2.1 Compatible Clang 4.0.1 (tags/RELEASE_401/final)]\n",
      "1.4.1\n"
     ]
    }
   ],
   "source": [
    "import sys\n",
    "import tensorflow as tf\n",
    "import numpy as np\n",
    "import matplotlib.pyplot as plt\n",
    "\n",
    "from keras import models\n",
    "from keras import layers\n",
    "\n",
    "print(sys.version)\n",
    "print(tf.__version__)"
   ]
  },
  {
   "cell_type": "markdown",
   "metadata": {},
   "source": [
    "## MNIST dataset\n",
    "Basic structure of a neural network in Keras using the MNIST dataset"
   ]
  },
  {
   "cell_type": "code",
   "execution_count": 168,
   "metadata": {},
   "outputs": [],
   "source": [
    "from keras.datasets import mnist\n",
    "from keras.utils import to_categorical"
   ]
  },
  {
   "cell_type": "code",
   "execution_count": 169,
   "metadata": {},
   "outputs": [],
   "source": [
    "# import the mnist data\n",
    "(train_images, train_labels), (test_images, test_labels) = mnist.load_data()"
   ]
  },
  {
   "cell_type": "code",
   "execution_count": null,
   "metadata": {},
   "outputs": [],
   "source": [
    "# network architecture using Sequential class\n",
    "# network = models.Sequential()\n",
    "# network.add(layers.Dense(512, activation='relu', input_shape=(28 * 28,)))\n",
    "# network.add(layers.Dense(10, activation='softmax'))\n",
    "\n",
    "# same network architecture but using functional API\n",
    "# gives more control over network architecture\n",
    "input_tensor = layers.Input(shape=(28 * 28,))\n",
    "x = layers.Dense(32, activation='relu')(input_tensor)\n",
    "output_tensor = layers.Dense(10, activation='softmax')(x)  # why softmax here and not relu ???\n",
    "\n",
    "network = models.Model(inputs=input_tensor, outputs=output_tensor)"
   ]
  },
  {
   "cell_type": "code",
   "execution_count": null,
   "metadata": {},
   "outputs": [],
   "source": [
    "# compilation step\n",
    "network.compile(optimizer='rmsprop',\n",
    "                loss='categorical_crossentropy',\n",
    "                metrics=['accuracy'])"
   ]
  },
  {
   "cell_type": "code",
   "execution_count": null,
   "metadata": {},
   "outputs": [],
   "source": [
    "# prepare image data\n",
    "train_images = train_images.reshape((60000, 28 * 28))\n",
    "train_images = train_images.astype('float32') / 255\n",
    "\n",
    "test_images = test_images.reshape((10000, 28 * 28))\n",
    "test_images = test_images.astype('float32') / 255"
   ]
  },
  {
   "cell_type": "code",
   "execution_count": null,
   "metadata": {},
   "outputs": [],
   "source": [
    "# prepare labels\n",
    "train_labels = to_categorical(train_labels)\n",
    "test_labels = to_categorical(test_labels)"
   ]
  },
  {
   "cell_type": "code",
   "execution_count": null,
   "metadata": {},
   "outputs": [],
   "source": [
    "# fit the model\n",
    "network.fit(train_images, train_labels, epochs=5, batch_size=128)"
   ]
  },
  {
   "cell_type": "code",
   "execution_count": null,
   "metadata": {},
   "outputs": [],
   "source": [
    "# evaluate model\n",
    "test_loss, test_acc = network.evaluate(test_images, test_labels)\n",
    "print('test_acc: ', test_acc)"
   ]
  },
  {
   "cell_type": "markdown",
   "metadata": {},
   "source": [
    "## Binary classification example using the IMDB dataset\n",
    "Binary sentiment classification (positive or negative review) using movie reviews from the IMDB dataset"
   ]
  },
  {
   "cell_type": "code",
   "execution_count": 56,
   "metadata": {},
   "outputs": [],
   "source": [
    "from keras.datasets import imdb"
   ]
  },
  {
   "cell_type": "code",
   "execution_count": 59,
   "metadata": {},
   "outputs": [],
   "source": [
    "(train_data, train_labels), (test_data, test_labels) = imdb.load_data(num_words=10000)"
   ]
  },
  {
   "cell_type": "code",
   "execution_count": 128,
   "metadata": {},
   "outputs": [
    {
     "name": "stdout",
     "output_type": "stream",
     "text": [
      "Shape: (25000,)\n",
      "An example of an element in train_data: type is <class 'list'> if length: 218\n",
      "Max word index:  9999\n",
      "Min word index:  1\n",
      "25000\n"
     ]
    }
   ],
   "source": [
    "print(\"Shape:\", train_data.shape)\n",
    "print(\"An example of an element in train_data: type is {} if length: {}\".format(type(train_data[0]), len(train_data[0])))\n",
    "print(\"Max word index: \", max([max(x) for x in train_data]))\n",
    "print(\"Min word index: \", min([min(x) for x in train_data]))\n",
    "print(len(train_data))"
   ]
  },
  {
   "cell_type": "code",
   "execution_count": 121,
   "metadata": {},
   "outputs": [
    {
     "name": "stdout",
     "output_type": "stream",
     "text": [
      "? this film was just brilliant casting location scenery story direction everyone's really suited the part they played and you could just imagine being there robert ? is an amazing actor and now the same being director ? father came from the same scottish island as myself so i loved the fact there was a real connection with this film the witty remarks throughout the film were great it was just brilliant so much that i bought the film as soon as it was released for ? and would recommend it to everyone to watch and the fly fishing was amazing really cried at the end it was so sad and you know what they say if you cry at a film it must have been good and this definitely was also ? to the two little boy's that played the ? of norman and paul they were just brilliant children are often left out of the ? list i think because the stars that play them all grown up are such a big profile for the whole film but these children are amazing and should be praised for what they have done don't you think the whole story was so lovely because it was true and was someone's life after all that was shared with us all\n"
     ]
    }
   ],
   "source": [
    "# get words from word_index of an example in the training data\n",
    "# word index in train_data has been scaled up by 3\n",
    "word_index = imdb.get_word_index()\n",
    "reverse_word_index = dict([(value, key) for (key, value) in word_index.items()])\n",
    "print(' '.join([reverse_word_index.get(i-3, '?') for i in train_data[0]]))"
   ]
  },
  {
   "cell_type": "code",
   "execution_count": 123,
   "metadata": {
    "scrolled": true
   },
   "outputs": [
    {
     "name": "stdout",
     "output_type": "stream",
     "text": [
      "START this film was just brilliant casting location scenery story direction everyone's really suited the part they played and you could just imagine being there robert UNKNOWN is an amazing actor and now the same being director UNKNOWN father came from the same scottish island as myself so i loved the fact there was a real connection with this film the witty remarks throughout the film were great it was just brilliant so much that i bought the film as soon as it was released for UNKNOWN and would recommend it to everyone to watch and the fly fishing was amazing really cried at the end it was so sad and you know what they say if you cry at a film it must have been good and this definitely was also UNKNOWN to the two little boy's that played the UNKNOWN of norman and paul they were just brilliant children are often left out of the UNKNOWN list i think because the stars that play them all grown up are such a big profile for the whole film but these children are amazing and should be praised for what they have done don't you think the whole story was so lovely because it was true and was someone's life after all that was shared with us all\n"
     ]
    }
   ],
   "source": [
    "# another way to understand how the indexing work in the data\n",
    "# The idea is that the word index given in the dictionary imdb.get_word_index()\n",
    "# does not align with the word index in train_data from imdb.load_data().\n",
    "# Indices 0, 1, and 2 in train_data is reserved for PADDING, START, and UNKNOWN\n",
    "word_index = imdb.get_word_index()\n",
    "word_index = {k:(v+3) for k,v in word_index.items()}\n",
    "\n",
    "word_index['PADDING'] = 0\n",
    "word_index['START'] = 1\n",
    "word_index['UNKNOWN'] = 2\n",
    "\n",
    "reverse_word_index = dict([(value, key) for (key, value) in word_index.items()])\n",
    "print(' '.join([reverse_word_index.get(i, '?') for i in train_data[0]]))"
   ]
  },
  {
   "cell_type": "code",
   "execution_count": 130,
   "metadata": {},
   "outputs": [],
   "source": [
    "# encode the interger sequences into a binary matrix\n",
    "def vectorize_sequences(sequences, dimension=10000):\n",
    "    # dimension is the top 10,000 words\n",
    "    \n",
    "    # create a matrix of zeros where a review is\n",
    "    # along the row and its words are each in the columns\n",
    "    results = np.zeros((len(sequences), dimension))\n",
    "    \n",
    "    # for a given row, replace 0 with 1 if integer\n",
    "    # corresponding to word is in the review\n",
    "    for i, sequence in enumerate(sequences):\n",
    "        results[i, sequence]= 1.\n",
    "\n",
    "    return results\n",
    "\n",
    "x_train = vectorize_sequences(train_data)\n",
    "x_test = vectorize_sequences(test_data)"
   ]
  },
  {
   "cell_type": "code",
   "execution_count": 140,
   "metadata": {},
   "outputs": [],
   "source": [
    "# vectorize labels (just cast it as a float32)\n",
    "y_train = np.asarray(train_labels).astype('float32')\n",
    "y_test = np.asarray(test_labels).astype('float32')"
   ]
  },
  {
   "cell_type": "code",
   "execution_count": 141,
   "metadata": {},
   "outputs": [],
   "source": [
    "# create validation set\n",
    "x_val = x_train[:10000]\n",
    "partial_x_train = x_train[10000:]\n",
    "\n",
    "y_val = y_train[:10000]\n",
    "partial_y_train = y_train[10000:]"
   ]
  },
  {
   "cell_type": "code",
   "execution_count": 162,
   "metadata": {},
   "outputs": [
    {
     "name": "stdout",
     "output_type": "stream",
     "text": [
      "Train on 15000 samples, validate on 10000 samples\n",
      "Epoch 1/20\n",
      "15000/15000 [==============================] - 2s 131us/step - loss: 0.5409 - acc: 0.7652 - val_loss: 0.4497 - val_acc: 0.8360\n",
      "Epoch 2/20\n",
      "15000/15000 [==============================] - 2s 103us/step - loss: 0.3298 - acc: 0.9006 - val_loss: 0.3176 - val_acc: 0.8863\n",
      "Epoch 3/20\n",
      "15000/15000 [==============================] - 2s 107us/step - loss: 0.2377 - acc: 0.9267 - val_loss: 0.2832 - val_acc: 0.8891\n",
      "Epoch 4/20\n",
      "15000/15000 [==============================] - 2s 105us/step - loss: 0.1863 - acc: 0.9404 - val_loss: 0.2753 - val_acc: 0.8904\n",
      "Epoch 5/20\n",
      "15000/15000 [==============================] - 2s 105us/step - loss: 0.1496 - acc: 0.9535 - val_loss: 0.2871 - val_acc: 0.8848\n",
      "Epoch 6/20\n",
      "15000/15000 [==============================] - 2s 105us/step - loss: 0.1262 - acc: 0.9603 - val_loss: 0.3094 - val_acc: 0.8782\n",
      "Epoch 7/20\n",
      "15000/15000 [==============================] - 2s 105us/step - loss: 0.1037 - acc: 0.9690 - val_loss: 0.3004 - val_acc: 0.8852\n",
      "Epoch 8/20\n",
      "15000/15000 [==============================] - 2s 106us/step - loss: 0.0856 - acc: 0.9759 - val_loss: 0.3329 - val_acc: 0.8793\n",
      "Epoch 9/20\n",
      "15000/15000 [==============================] - 2s 104us/step - loss: 0.0700 - acc: 0.9823 - val_loss: 0.3408 - val_acc: 0.8801\n",
      "Epoch 10/20\n",
      "15000/15000 [==============================] - 2s 105us/step - loss: 0.0544 - acc: 0.9873 - val_loss: 0.3597 - val_acc: 0.8799\n",
      "Epoch 11/20\n",
      "15000/15000 [==============================] - 2s 105us/step - loss: 0.0449 - acc: 0.9903 - val_loss: 0.3880 - val_acc: 0.8776\n",
      "Epoch 12/20\n",
      "15000/15000 [==============================] - 2s 108us/step - loss: 0.0361 - acc: 0.9927 - val_loss: 0.4175 - val_acc: 0.8767\n",
      "Epoch 13/20\n",
      "15000/15000 [==============================] - 2s 105us/step - loss: 0.0275 - acc: 0.9952 - val_loss: 0.4545 - val_acc: 0.8742\n",
      "Epoch 14/20\n",
      "15000/15000 [==============================] - 2s 107us/step - loss: 0.0222 - acc: 0.9967 - val_loss: 0.4756 - val_acc: 0.8728\n",
      "Epoch 15/20\n",
      "15000/15000 [==============================] - 2s 106us/step - loss: 0.0168 - acc: 0.9979 - val_loss: 0.5003 - val_acc: 0.8721\n",
      "Epoch 16/20\n",
      "15000/15000 [==============================] - 2s 104us/step - loss: 0.0117 - acc: 0.9993 - val_loss: 0.5619 - val_acc: 0.8675\n",
      "Epoch 17/20\n",
      "15000/15000 [==============================] - 2s 105us/step - loss: 0.0090 - acc: 0.9995 - val_loss: 0.5790 - val_acc: 0.8666\n",
      "Epoch 18/20\n",
      "15000/15000 [==============================] - 2s 105us/step - loss: 0.0053 - acc: 0.9999 - val_loss: 0.6328 - val_acc: 0.8669\n",
      "Epoch 19/20\n",
      "15000/15000 [==============================] - 2s 104us/step - loss: 0.0079 - acc: 0.9983 - val_loss: 0.6390 - val_acc: 0.8689\n",
      "Epoch 20/20\n",
      "15000/15000 [==============================] - 2s 106us/step - loss: 0.0025 - acc: 0.9999 - val_loss: 0.6651 - val_acc: 0.8680\n"
     ]
    }
   ],
   "source": [
    "# Model 1 (trained for 16 epochs)\n",
    "\n",
    "# build network architecture\n",
    "model1 = models.Sequential()\n",
    "model1.add(layers.Dense(16, activation='relu', input_shape=(10000,)))\n",
    "model1.add(layers.Dense(16, activation='relu'))\n",
    "model1.add(layers.Dense(1, activation='sigmoid'))\n",
    "\n",
    "# compile the model\n",
    "model1.compile(optimizer='rmsprop',\n",
    "              loss='binary_crossentropy',\n",
    "              metrics=['accuracy'])\n",
    "\n",
    "history = model1.fit(partial_x_train,\n",
    "                    partial_y_train,\n",
    "                    epochs=20,\n",
    "                    batch_size=512,\n",
    "                    validation_data=(x_val, y_val))"
   ]
  },
  {
   "cell_type": "code",
   "execution_count": 163,
   "metadata": {},
   "outputs": [
    {
     "name": "stdout",
     "output_type": "stream",
     "text": [
      "25000/25000 [==============================] - 2s 65us/step\n"
     ]
    },
    {
     "data": {
      "text/plain": [
       "[0.7317162918460369, 0.8546]"
      ]
     },
     "execution_count": 163,
     "metadata": {},
     "output_type": "execute_result"
    }
   ],
   "source": [
    "# evaluate model using test set\n",
    "model1.evaluate(x_test, y_test)"
   ]
  },
  {
   "cell_type": "code",
   "execution_count": 164,
   "metadata": {},
   "outputs": [
    {
     "data": {
      "text/plain": [
       "dict_keys(['val_acc', 'loss', 'val_loss', 'acc'])"
      ]
     },
     "execution_count": 164,
     "metadata": {},
     "output_type": "execute_result"
    }
   ],
   "source": [
    "# model.fit() return's a history object with a \n",
    "# record of everything that happened during training\n",
    "history_dict = history.history\n",
    "history_dict.keys()"
   ]
  },
  {
   "cell_type": "code",
   "execution_count": 165,
   "metadata": {},
   "outputs": [
    {
     "data": {
      "image/png": "[encoded data removed]",
      "text/plain": [
       "<matplotlib.figure.Figure at 0x1827653400>"
      ]
     },
     "metadata": {},
     "output_type": "display_data"
    },
    {
     "data": {
      "image/png": "[encoded data removed]",
      "text/plain": [
       "<matplotlib.figure.Figure at 0x182ce067f0>"
      ]
     },
     "metadata": {},
     "output_type": "display_data"
    }
   ],
   "source": [
    "# plot trainng and validation loss\n",
    "loss_values = history_dict['loss']\n",
    "val_loss_values = history_dict['val_loss']\n",
    "\n",
    "epochs = range(1, len(history_dict['acc']) + 1)\n",
    "\n",
    "plt.plot(epochs, loss_values, 'bo', label='Training Loss')\n",
    "plt.plot(epochs, val_loss_values, 'b', label='Validation Loss')\n",
    "plt.title('Training and validation loss')\n",
    "plt.xlabel('Epochs')\n",
    "plt.ylabel('Loss')\n",
    "plt.legend()\n",
    "plt.show()\n",
    "\n",
    "acc_values = history_dict['acc']\n",
    "val_acc_values = history_dict['val_acc']\n",
    "\n",
    "epochs = range(1, len(history_dict['acc']) + 1)\n",
    "\n",
    "plt.plot(epochs, acc_values, 'bo', label='Training Accuracy')\n",
    "plt.plot(epochs, val_acc_values, 'b', label='Validation Accuracy')\n",
    "plt.title('Training and validation accuracy')\n",
    "plt.xlabel('Epochs')\n",
    "plt.ylabel('Accuracy')\n",
    "plt.legend()\n",
    "plt.show()\n",
    "\n"
   ]
  },
  {
   "cell_type": "markdown",
   "metadata": {},
   "source": [
    "Some overfitting going on here. Try a different model where we train only for 4 epochs."
   ]
  },
  {
   "cell_type": "code",
   "execution_count": 160,
   "metadata": {},
   "outputs": [
    {
     "name": "stdout",
     "output_type": "stream",
     "text": [
      "Train on 15000 samples, validate on 10000 samples\n",
      "Epoch 1/4\n",
      "15000/15000 [==============================] - 3s 202us/step - loss: 0.5014 - acc: 0.7918 - val_loss: 0.3708 - val_acc: 0.8696\n",
      "Epoch 2/4\n",
      "15000/15000 [==============================] - 2s 106us/step - loss: 0.2952 - acc: 0.8997 - val_loss: 0.3001 - val_acc: 0.8860\n",
      "Epoch 3/4\n",
      "15000/15000 [==============================] - 2s 110us/step - loss: 0.2150 - acc: 0.9302 - val_loss: 0.2817 - val_acc: 0.8882\n",
      "Epoch 4/4\n",
      "15000/15000 [==============================] - 2s 107us/step - loss: 0.1679 - acc: 0.9435 - val_loss: 0.2806 - val_acc: 0.8892\n"
     ]
    }
   ],
   "source": [
    "# Model 2 (trained for only 4 epochs)\n",
    "\n",
    "# build network architecture\n",
    "model2 = models.Sequential()\n",
    "model2.add(layers.Dense(16, activation='relu', input_shape=(10000,)))\n",
    "model2.add(layers.Dense(16, activation='relu'))\n",
    "model2.add(layers.Dense(1, activation='sigmoid'))\n",
    "\n",
    "# compile the model\n",
    "model2.compile(optimizer='rmsprop',\n",
    "              loss='binary_crossentropy',\n",
    "              metrics=['accuracy'])\n",
    "\n",
    "history = model2.fit(partial_x_train,\n",
    "                    partial_y_train,\n",
    "                    epochs=4,\n",
    "                    batch_size=512,\n",
    "                    validation_data=(x_val, y_val))"
   ]
  },
  {
   "cell_type": "code",
   "execution_count": 161,
   "metadata": {},
   "outputs": [
    {
     "name": "stdout",
     "output_type": "stream",
     "text": [
      "25000/25000 [==============================] - 2s 70us/step\n"
     ]
    },
    {
     "data": {
      "text/plain": [
       "[0.2986868525028229, 0.87804]"
      ]
     },
     "execution_count": 161,
     "metadata": {},
     "output_type": "execute_result"
    }
   ],
   "source": [
    "# evaluate model using test set\n",
    "model2.evaluate(x_test, y_test)"
   ]
  },
  {
   "cell_type": "markdown",
   "metadata": {},
   "source": [
    "Predictions using test set for model 2, trained only in 4 epochs, is 2.5 percentage points more accurate than model 1. Note that test set has now leaked into the model."
   ]
  },
  {
   "cell_type": "code",
   "execution_count": 166,
   "metadata": {},
   "outputs": [
    {
     "data": {
      "text/plain": [
       "array([[0.00482323],\n",
       "       [0.9999993 ],\n",
       "       [0.5208784 ],\n",
       "       ...,\n",
       "       [0.00585634],\n",
       "       [0.0192093 ],\n",
       "       [0.634177  ]], dtype=float32)"
      ]
     },
     "execution_count": 166,
     "metadata": {},
     "output_type": "execute_result"
    }
   ],
   "source": [
    "# using the trained network to generate predictions on new data\n",
    "# output is an array of probabilities that the example is a positive sentiment\n",
    "model1.predict(x_test)"
   ]
  },
  {
   "cell_type": "markdown",
   "metadata": {},
   "source": [
    "# More Experiments (to be added)"
   ]
  },
  {
   "cell_type": "markdown",
   "metadata": {},
   "source": [
    "# Notes\n",
    "\n",
    "1. Epoch, batch size, iteration ([Reference](https://stackoverflow.com/questions/4752626/epoch-vs-iteration-when-training-neural-networks))\n",
    "    * one __epoch__: one forward pass and one backward pass of _all_ the training the training examples\n",
    "    * __batch size__: the number of training examples in _one_ forward/backward pass. Larger batch sizes need more memory space.\n",
    "    * one __iteration__: one forward + one backward pass of a given batch\n",
    "\n",
    "\n",
    "\n"
   ]
  },
  {
   "cell_type": "code",
   "execution_count": null,
   "metadata": {},
   "outputs": [],
   "source": []
  }
 ],
 "metadata": {
  "kernelspec": {
   "display_name": "Python 3",
   "language": "python",
   "name": "python3"
  },
  "language_info": {
   "codemirror_mode": {
    "name": "ipython",
    "version": 3
   },
   "file_extension": ".py",
   "mimetype": "text/x-python",
   "name": "python",
   "nbconvert_exporter": "python",
   "pygments_lexer": "ipython3",
   "version": "3.5.4"
  }
 },
 "nbformat": 4,
 "nbformat_minor": 2
}
